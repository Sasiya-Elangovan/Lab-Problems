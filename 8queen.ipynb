{
 "cells": [
  {
   "cell_type": "code",
   "execution_count": 1,
   "id": "a6e03bd0-5f6f-4869-84c6-5222d95d229b",
   "metadata": {},
   "outputs": [
    {
     "name": "stdout",
     "output_type": "stream",
     "text": [
      "Enter the number of queens\n"
     ]
    },
    {
     "name": "stdin",
     "output_type": "stream",
     "text": [
      " 8\n"
     ]
    },
    {
     "name": "stdout",
     "output_type": "stream",
     "text": [
      "Solution exists. Placements of queens:\n",
      "[1, 0, 0, 0, 0, 0, 0, 0]\n",
      "[0, 0, 0, 0, 1, 0, 0, 0]\n",
      "[0, 0, 0, 0, 0, 0, 0, 1]\n",
      "[0, 0, 0, 0, 0, 1, 0, 0]\n",
      "[0, 0, 1, 0, 0, 0, 0, 0]\n",
      "[0, 0, 0, 0, 0, 0, 1, 0]\n",
      "[0, 1, 0, 0, 0, 0, 0, 0]\n",
      "[0, 0, 0, 1, 0, 0, 0, 0]\n"
     ]
    }
   ],
   "source": [
    "print(\"Enter the number of queens\")\n",
    "N = int(input())\n",
    "\n",
    "# Create a chessboard NxN matrix with all elements set to 0\n",
    "board = [[0] * N for _ in range(N)]\n",
    "\n",
    "def is_safe(i, j):\n",
    "    # Checking vertically and horizontally\n",
    "    for k in range(N):\n",
    "        if board[i][k] == 1 or board[k][j] == 1:\n",
    "            return False\n",
    "\n",
    "    # Checking diagonally\n",
    "    for k in range(N):\n",
    "        for l in range(N):\n",
    "            if (k + l == i + j or k - l == i - j) and board[k][l] == 1:\n",
    "                return False\n",
    "\n",
    "    return True\n",
    "\n",
    "def solve_n_queens(n):\n",
    "    if n == 0:\n",
    "        return True\n",
    "\n",
    "    for i in range(N):\n",
    "        for j in range(N):\n",
    "            if not is_safe(i, j):\n",
    "                continue\n",
    "\n",
    "            if board[i][j] != 1:\n",
    "                board[i][j] = 1\n",
    "                if solve_n_queens(n - 1):\n",
    "                    return True\n",
    "                board[i][j] = 0\n",
    "\n",
    "    return False\n",
    "\n",
    "# Check if a solution exists\n",
    "if solve_n_queens(N):\n",
    "    print(\"Solution exists. Placements of queens:\")\n",
    "    for row in board:\n",
    "        print(row)\n",
    "else:\n",
    "    print(\"No solution exists.\")\n"
   ]
  },
  {
   "cell_type": "code",
   "execution_count": null,
   "id": "05539c0c-b56b-4ca1-b8da-2c7efc1b2d45",
   "metadata": {},
   "outputs": [],
   "source": []
  }
 ],
 "metadata": {
  "kernelspec": {
   "display_name": "Python [conda env:base] *",
   "language": "python",
   "name": "conda-base-py"
  },
  "language_info": {
   "codemirror_mode": {
    "name": "ipython",
    "version": 3
   },
   "file_extension": ".py",
   "mimetype": "text/x-python",
   "name": "python",
   "nbconvert_exporter": "python",
   "pygments_lexer": "ipython3",
   "version": "3.12.7"
  }
 },
 "nbformat": 4,
 "nbformat_minor": 5
}
